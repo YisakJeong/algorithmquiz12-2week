{
  "nbformat": 4,
  "nbformat_minor": 0,
  "metadata": {
    "colab": {
      "provenance": [],
      "mount_file_id": "15S_JCSOaMgPnFs_GVJNNaKQDwNtzM5Mf",
      "authorship_tag": "ABX9TyM/SAsa9bD2Q0Ndee8GZ56y",
      "include_colab_link": true
    },
    "kernelspec": {
      "name": "python3",
      "display_name": "Python 3"
    },
    "language_info": {
      "name": "python"
    }
  },
  "cells": [
    {
      "cell_type": "markdown",
      "metadata": {
        "id": "view-in-github",
        "colab_type": "text"
      },
      "source": [
        "<a href=\"https://colab.research.google.com/github/YisakJeong/algorithmquiz12-2week/blob/main/%EC%95%8C%EA%B3%A0%EB%A6%AC%EC%A6%98_%ED%80%B4%EC%A6%88.ipynb\" target=\"_parent\"><img src=\"https://colab.research.google.com/assets/colab-badge.svg\" alt=\"Open In Colab\"/></a>"
      ]
    },
    {
      "cell_type": "code",
      "source": [
        "# 22000689 정이삭"
      ],
      "metadata": {
        "id": "p3qNnlu1dmbW"
      },
      "execution_count": 17,
      "outputs": []
    },
    {
      "cell_type": "code",
      "execution_count": 18,
      "metadata": {
        "colab": {
          "base_uri": "https://localhost:8080/"
        },
        "id": "C6zdfEDAKfEx",
        "outputId": "6fa6175e-8c49-4a91-d1aa-53f376ae059c"
      },
      "outputs": [
        {
          "output_type": "stream",
          "name": "stdout",
          "text": [
            "DFS 탐색 시작(알파벳 우선순위 기준)\n",
            "경로: A\n",
            "경로: A>B\n",
            "경로: A>B>D\n",
            "경로: A>B>D>H\n",
            "경로: A>B>D>I\n",
            "경로: A>B>E\n",
            "경로: A>B>E>J\n",
            "경로: A>C\n",
            "경로: A>C>F\n",
            "경로: A>C>G\n"
          ]
        }
      ],
      "source": [
        "# 문제 1\n",
        "\n",
        "# 답: A>B>D>H\n",
        "#DFS는 어떤 노드를 확인하고 노드와 인접한 노드들 중 가장 우선 순위가 높은 곳으로 탐색하는 방식이고 자식들 끝으로 가게되면 다시\n",
        "#위로 올라가서 다른 방향을 탐색하는 방식입니다.\n",
        "# 첫번째 노드는 A인데 A와 인접한 노드인 B와 C가 있는데 알파벳 우선순위로 B노드에 방문합니다. B노드와 인접한 노드인 D와 E가 있는데\n",
        "# 알파벳 우선순위로 D에 방문합니다. D에 인접한 노드인 H와 I가 있는데 알파벳 우선 순위로 H에 방문합니다.\n",
        "# H는 자식이 없기 때문에 첫 경로인 A>B>D>H가 첫 경로가 되게 됩니다.\n",
        "# 추가\n",
        "# H에 자식이 없으므로 부모인 D로갑니다. D의 자식인 H가 아닌 I가 있기 때문에 I에 방문합니다. I에는 자식이 없기 때문에 마찬가지로 다시\n",
        "#부모로 돌아가게 됩니다. 따라서 총 경로는 A>B>D>H>I>J>C>F>G로 가게됩니다.\n",
        "\n",
        "graph = {\n",
        "    'A': ['B', 'C'],\n",
        "    'B': ['D', 'E'],\n",
        "    'C': ['F', 'G'],\n",
        "    'D': ['H', 'I'],\n",
        "    'E': ['J'],\n",
        "    'F': [], 'G': [], 'H': [], 'I': [], 'J': []\n",
        "}\n",
        "\n",
        "def dfs(node,visited=None,path_trace=None):\n",
        "  #방문 노드를 기록하는 리스트, 최초호출 시 초기화\n",
        "  if visited is None:\n",
        "    visited=[]\n",
        "  # 현재까지 탐색 경로를 저장하는 리스트, 재귀적으로 유지\n",
        "  if path_trace is None:\n",
        "    path_trace=[]\n",
        "  #현재 노드를 방문 처리\n",
        "  visited.append(node)\n",
        "\n",
        "  #경로 추적을 위해 현재 노드를 경로에 추가\n",
        "  path_trace.append(node)\n",
        "\n",
        "  #현재까지의 탐색 경로 출력\n",
        "  print(\"경로:\",\">\".join(path_trace))\n",
        "\n",
        "  #현재 노드에 연결된 모든 이웃 노드를 탐색 (알파벳 순 정렬)\n",
        "  for neighbor in sorted(graph[node]):\n",
        "    if neighbor not in visited: # 아직 방문하지 않은 경우\n",
        "      dfs(neighbor,visited, path_trace) # 재귀적으로 탐색\n",
        "\n",
        "  path_trace.pop()# 해당 노드에서의 탐색이 끝나면 경로에서 제거(되돌아가기)\n",
        "\n",
        "print(\"DFS 탐색 시작(알파벳 우선순위 기준)\")\n",
        "dfs(\"A\")"
      ]
    },
    {
      "cell_type": "code",
      "source": [
        "#문제 2\n",
        "#답: E\n",
        "# BFS는 너비 우선 탐색으로 어떤 노드를 확인 한 뒤 그 노드와 인접한 모든 노드를 방문한 후 그 다음 인접한 노드들의 인접 노드를 탐색하는 방식입니다.\n",
        "# # BFS는 큐를 사용하는데 선입 선출 방식입니다.\n",
        "# 위 문제에서 문제 1번과 같은 graph인데 A에 먼저 방문합니다.(첫번째 방문)\n",
        "#다음으로 A와 인접한 노드인 B와 C를 큐에 추가 하게 됩니다(['B','C'])\n",
        "#다음으로 B에 방문합니다.(두번째 방문)\n",
        "# B와 인접한 노드인 D와 E를 큐에 추가합니다.(['C','D','E'])\n",
        "# C에 방문합니다.(세번째 방문)\n",
        "#C와 인접한 F,G를 큐에 넣습니다.(['D','E','F','G'])\n",
        "#D에 방문합니다.(네번째 방문)\n",
        "#D와 인접한 노드는 없습니다.(['E','F','G'])\n",
        "#E에 방문합니다.(다섯번째 방문)\n",
        "# E와 인접한 노드는 없습니다.(['F','G'])\n",
        "#F에 방문합니다.(여섯번째 방문)\n",
        "#F에 인접한 노드는 없습니다.(['G'])\n",
        "#G에 방문합니다.(일곱번째 방문)\n",
        "# 큐에 아무것도 존재하지 않기 때문에 while 문은 끝나게 됩니다.\n",
        "\n",
        "\n",
        "graph = {\n",
        "    'A': ['B', 'C'],\n",
        "    'B': ['D', 'E'],\n",
        "    'C': ['F', 'G'],\n",
        "    'D': [], 'E': [], 'F': [], 'G': []\n",
        "}\n",
        "\n",
        "\n",
        "from collections import deque\n",
        "def bfs(start):\n",
        "  visited=[]\n",
        "  queue=deque([start]) #큐를 만들면서, 초기값으로 start 정점을 하나 넣어놓은 것이다.\n",
        "  while queue:\n",
        "    node=queue.popleft()\n",
        "    if node not in visited:\n",
        "      print(f\"방문:{node}\")\n",
        "      visited.append(node)\n",
        "      #알파벳 순으로 인접노드를 큐에 추가\n",
        "      queue.extend(sorted(graph[node]))\n",
        "      print(\"큐 내용(리스트 형태):\",list(queue))\n",
        "  return visited\n",
        "\n",
        "#실행\n",
        "print(\"BFS 탐색결과 (알파벳 우선순위 기준):\")\n",
        "result=bfs(\"A\")\n",
        "print(\">순서:\",result)"
      ],
      "metadata": {
        "colab": {
          "base_uri": "https://localhost:8080/"
        },
        "id": "hx8l0_-pdz3q",
        "outputId": "4bbf0249-012f-406d-83ed-18fabbb1f136"
      },
      "execution_count": 19,
      "outputs": [
        {
          "output_type": "stream",
          "name": "stdout",
          "text": [
            "BFS 탐색결과 (알파벳 우선순위 기준):\n",
            "방문:A\n",
            "큐 내용(리스트 형태): ['B', 'C']\n",
            "방문:B\n",
            "큐 내용(리스트 형태): ['C', 'D', 'E']\n",
            "방문:C\n",
            "큐 내용(리스트 형태): ['D', 'E', 'F', 'G']\n",
            "방문:D\n",
            "큐 내용(리스트 형태): ['E', 'F', 'G']\n",
            "방문:E\n",
            "큐 내용(리스트 형태): ['F', 'G']\n",
            "방문:F\n",
            "큐 내용(리스트 형태): ['G']\n",
            "방문:G\n",
            "큐 내용(리스트 형태): []\n",
            ">순서: ['A', 'B', 'C', 'D', 'E', 'F', 'G']\n"
          ]
        }
      ]
    },
    {
      "cell_type": "code",
      "source": [
        "#문제 3\n",
        "\n",
        "# 답: 6\n",
        "# 최소비용신장트리는 모든 노드를 포함하면서 사이클 없이 간선의 가중치의 합이 최소가 되는 트리 입니다.\n",
        "#KRUSKAL 방식은 가중치가 작은 것부터 추가 하는 방식입니다.\n",
        "#따라서 가중치는 총 4개 1,2,3,4가 있는데 1,2,3을 선택하면 됩니다.\n",
        "# (0,1,1), (1,2,2)(2,3,3)\n",
        "\n",
        "\n",
        "import networkx as nx\n",
        "import matplotlib.pyplot as plt\n",
        "\n",
        "edges = [\n",
        "    (0, 1, 1),\n",
        "    (1, 2, 2),\n",
        "    (2, 3, 3),\n",
        "    (3, 0, 4)\n",
        "]\n",
        "G=nx.Graph()\n",
        "G.add_weighted_edges_from(edges) #  간선에 가중치\n",
        "mst=nx.minimum_spanning_tree(G,algorithm='kruskal')\n",
        "total_cost=sum(data[\"weight\"] for u,v, data in mst.edges(data=True)) #  각 간선의 가중치를 더해서 총 비용 계산\n",
        "\n",
        "\n",
        "print(\"최소비용 신장트리 간선 목록:\")\n",
        "for u,v,data in mst.edges(data=True): # 선택된 간선들을 하나씩 출력\n",
        "  print(f\"{u}-{v}, 비용:{data['weight']}\")\n",
        "\n",
        "#최종 총 비용 출력\n",
        "print(f\" 총비용:{total_cost}\")"
      ],
      "metadata": {
        "colab": {
          "base_uri": "https://localhost:8080/"
        },
        "id": "m4h0E16Dd0FR",
        "outputId": "d5098763-a1c6-49ac-fbdd-5790ae1779c1"
      },
      "execution_count": 20,
      "outputs": [
        {
          "output_type": "stream",
          "name": "stdout",
          "text": [
            "최소비용 신장트리 간선 목록:\n",
            "0-1, 비용:1\n",
            "1-2, 비용:2\n",
            "2-3, 비용:3\n",
            " 총비용:6\n"
          ]
        }
      ]
    },
    {
      "cell_type": "code",
      "source": [
        "# 문제4\n",
        "\n",
        "\n",
        "\n",
        "#답:(9,9.75)>(10,10.33)>(10.5,11)>(11,12)>(13,13.5)>(14,15)>(15,16)\n",
        "\n",
        "# 탐욕 알고리즘은 매 단계마다 가장 좋아보이는 선택을 하는 전략입니다.\n",
        "# 탐욕 알고리즘을 적용하려면 현재 선택이 전체 최적해의 일부가 될 수 있는지 여부와\n",
        "# 문제를 작은 부분으로 나누어서 각각을 최적으로 풀었을 때 전체 최적해가 되는지의 여부를 확인해야합니다.\n",
        "# 회의시간의 경우 전체 회의 시간을 종료시간 기준으로 오름차순으로 정렬합니다.\n",
        "# 그 다음 맨 처음 가장 빨리 끝나는 시간을 선택합니다.\n",
        "# 첫번째로 (9,9.75)를 선택합니다,다음 회의는 9.75보다 시작시간이 늦게 시작하는 것을 선택하면 됩니다.\n",
        "#두번째로는 (10,10.33) 선택합니다,다음으로는 10.33보다 시작시간이 늦은 회의시간을 선택합니다.\n",
        "# 세번째 (10.5,11), 그 다음으로 11보다 시작시간이 늦은 회의 시작시간을 선택합니다.\n",
        "#네번째 (11,12), 그 다음으로 12보다 시작시간이 늦은 회의시작시간을 선택합니다.\n",
        "# 다섯번째(13,13.5), 그 다음으로 13.5보다 시작시간이 늦은 회의를 선택합니다.\n",
        "#여섯번째(14,15), 그 다음으로는 15보다 시작시간이 늦은 회의를 선택합니다.\n",
        "#일곱번째(15,16) 입니다.\n",
        "# 16시 보다 늦게 시작하는 회의는 없으므로 끝나게 됩니다.\n",
        "\n",
        "meetings = [\n",
        "    (9, 9.75),   # 회의 A: 09:00~09:45\n",
        "    (9.5, 10.5), # 회의 B: 09:30~10:30\n",
        "    (10, 10.33), # 회의 C: 10:00~10:20\n",
        "    (10.5, 11),  # 회의 D: 10:30~11:00\n",
        "    (11, 12),    # 회의 E: 11:00~12:00\n",
        "    (9.25, 10),  # 회의 F: 09:15~10:00\n",
        "    (13, 13.5),  # 회의 G: 13:00~13:30\n",
        "    (12.5, 13.5),# 회의 H: 12:30~13:30\n",
        "    (14, 15),    # 회의 I: 14:00~15:00\n",
        "    (15, 16)     # 회의 J: 15:00~16:00\n",
        "]\n",
        "\n",
        "meetings.sort(key=lambda x:x[1]) # 종료시간 기준 오름차순\n",
        "print(meetings)\n",
        "end_time=0 # 현재 회의가 끝난 시간을 저장하는 변수\n",
        "selected_meetings=[] # 배정된 회의 수와 선택된 회의 목록\n",
        "\n",
        "for start,end in meetings:\n",
        "  if start>=end_time: # 현재 시작 회의가 전 회의의 끝나는 시간보다 늦으면\n",
        "    selected_meetings.append((start,end))\n",
        "    end_time=end\n",
        "\n",
        "print(\"선택 회의:\", \">\".join([f\"({s},{e})\" for s,e in selected_meetings]))\n",
        "print(\"출력:\",len(selected_meetings))"
      ],
      "metadata": {
        "colab": {
          "base_uri": "https://localhost:8080/"
        },
        "id": "0qJps1rod0UO",
        "outputId": "ef6c82a0-e2a9-497f-8235-c85118895f9f"
      },
      "execution_count": 21,
      "outputs": [
        {
          "output_type": "stream",
          "name": "stdout",
          "text": [
            "[(9, 9.75), (9.25, 10), (10, 10.33), (9.5, 10.5), (10.5, 11), (11, 12), (13, 13.5), (12.5, 13.5), (14, 15), (15, 16)]\n",
            "선택 회의: (9,9.75)>(10,10.33)>(10.5,11)>(11,12)>(13,13.5)>(14,15)>(15,16)\n",
            "출력: 7\n"
          ]
        }
      ]
    },
    {
      "cell_type": "code",
      "source": [
        "# 문제 5번\n",
        "\n",
        "#: 500x2+100x2\n",
        "# 최적해가 아닙니다. 400원 3개로 1200원을 만들 수 있기 때문에 탐욕 알고리즘으로 사용한 4개보다 적게 사용할 수 있습니다.\n",
        "# 동전의 단위가 비정규적이기 때문에 최적 선택이 뒤에 숨겨져 있을 가능성이 존재하게 됩니다.\n",
        "\n"
      ],
      "metadata": {
        "id": "QLhP7Llad0cs"
      },
      "execution_count": 22,
      "outputs": []
    },
    {
      "cell_type": "code",
      "source": [
        "# 문제 6번\n",
        "# 알고리즘 이름: 억지기법\n",
        "# 동작 방식: 가능한 모든 경우의 수를 다 찾는 것 입니다.\n",
        "# 장점: 항상 최적해를 보장합니다. 구현이 쉽습니다.\n",
        "#단점: 비효율적이다. 모든 경우를 다 탐색하기 때문에 input이 많다면 느려질 수 있습니다.\n",
        "\n",
        "\n",
        "password=1000\n",
        "for pw in range(0,10000):   # 9999까지 돌면서 비밀번호와 일치하는지 확인\n",
        "  if pw==password:\n",
        "    print(\"정답\",pw)\n",
        "    break"
      ],
      "metadata": {
        "colab": {
          "base_uri": "https://localhost:8080/"
        },
        "id": "dhATjXo8d0kW",
        "outputId": "a704e8ca-a001-49ae-95a7-71183d5e3bbc"
      },
      "execution_count": 23,
      "outputs": [
        {
          "output_type": "stream",
          "name": "stdout",
          "text": [
            "정답 1000\n"
          ]
        }
      ]
    }
  ]
}